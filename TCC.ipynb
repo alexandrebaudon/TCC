{
 "cells": [
  {
   "cell_type": "code",
   "execution_count": 1,
   "id": "a0e7c75f",
   "metadata": {},
   "outputs": [],
   "source": [
    "from pyspark.sql import SparkSession"
   ]
  },
  {
   "cell_type": "code",
   "execution_count": 2,
   "id": "92681eb3",
   "metadata": {},
   "outputs": [
    {
     "name": "stderr",
     "output_type": "stream",
     "text": [
      "21/11/12 14:59:43 WARN Utils: Your hostname, ubuntu resolves to a loopback address: 127.0.1.1; using 192.168.23.128 instead (on interface ens33)\n",
      "21/11/12 14:59:43 WARN Utils: Set SPARK_LOCAL_IP if you need to bind to another address\n",
      "Using Spark's default log4j profile: org/apache/spark/log4j-defaults.properties\n",
      "Setting default log level to \"WARN\".\n",
      "To adjust logging level use sc.setLogLevel(newLevel). For SparkR, use setLogLevel(newLevel).\n",
      "21/11/12 14:59:44 WARN NativeCodeLoader: Unable to load native-hadoop library for your platform... using builtin-java classes where applicable\n"
     ]
    }
   ],
   "source": [
    "spark = SparkSession.builder.appName(\"TCC\").getOrCreate()"
   ]
  },
  {
   "cell_type": "code",
   "execution_count": 3,
   "id": "737f0af1",
   "metadata": {},
   "outputs": [
    {
     "data": {
      "text/html": [
       "\n",
       "            <div>\n",
       "                <p><b>SparkSession - in-memory</b></p>\n",
       "                \n",
       "        <div>\n",
       "            <p><b>SparkContext</b></p>\n",
       "\n",
       "            <p><a href=\"http://192.168.23.128:4040\">Spark UI</a></p>\n",
       "\n",
       "            <dl>\n",
       "              <dt>Version</dt>\n",
       "                <dd><code>v3.2.0</code></dd>\n",
       "              <dt>Master</dt>\n",
       "                <dd><code>local[*]</code></dd>\n",
       "              <dt>AppName</dt>\n",
       "                <dd><code>TCC</code></dd>\n",
       "            </dl>\n",
       "        </div>\n",
       "        \n",
       "            </div>\n",
       "        "
      ],
      "text/plain": [
       "<pyspark.sql.session.SparkSession at 0x7f2a20164070>"
      ]
     },
     "execution_count": 3,
     "metadata": {},
     "output_type": "execute_result"
    }
   ],
   "source": [
    "spark"
   ]
  },
  {
   "cell_type": "code",
   "execution_count": 839,
   "id": "58c6c79f",
   "metadata": {},
   "outputs": [],
   "source": [
    "data = spark.read.csv(\"/mnt/hgfs/shared_folder/hst_scr.csv\",\n",
    "                      inferSchema=True,\n",
    "                     header=True,\n",
    "                     )"
   ]
  },
  {
   "cell_type": "code",
   "execution_count": 840,
   "id": "865d9cde",
   "metadata": {},
   "outputs": [
    {
     "name": "stdout",
     "output_type": "stream",
     "text": [
      "+----+---------+---------+---------------+---------------+-------------+---------+------------------+----------+\n",
      "| ano|id_regiao|perc_inad|taxa_desemprego|renda_percapita|qtd_populacao|valor_pib|taxa_alfabetizacao|taxa_selic|\n",
      "+----+---------+---------+---------------+---------------+-------------+---------+------------------+----------+\n",
      "|2020|        1|1.9210129|           11.0|           1536|     18094551|    35506|              90.3|       1.9|\n",
      "|2020|        2|3.2706366|      16.333334|            913|     57374243|    46781|              82.9|       1.9|\n",
      "|2020|        3|2.6512673|      13.333333|            949|     17082343|    12982|              88.3|       1.9|\n",
      "|2020|        4| 2.574358|           14.5|           1549|     89012240|   151193|              94.5|       1.9|\n",
      "|2020|        5| 1.810782|      7.3333335|           1633|     30192315|   287597|              95.4|       1.9|\n",
      "|2019|        1|2.5289876|            8.6|           1593|     17869940|    34820|              90.3|       4.9|\n",
      "|2019|        2| 3.904583|      12.888889|            887|     57071654|    45877|              82.9|       4.9|\n",
      "|2019|        3|3.3900259|      11.833333|            934|     16858114|    12731|              88.3|       4.9|\n",
      "|2019|        4|3.2406075|          10.75|           1665|     88371433|   148272|              94.5|       4.9|\n",
      "|2019|        5|2.3858519|      6.3333335|           1744|     29975984|   282039|              95.4|       4.9|\n",
      "|2018|        1|2.3688977|            8.6|           1530|     17641114|    35666|              90.0|       6.4|\n",
      "|2018|        2|3.5395253|      13.555555|            829|     56760780|    42018|              82.7|       6.4|\n",
      "|2018|        3|3.4302285|      13.166667|            956|     16627024|    13370|              87.9|       6.4|\n",
      "|2018|        4|3.0524065|          11.25|           1551|     87711946|   137020|              94.2|       6.4|\n",
      "|2018|        5|2.1732743|      6.6666665|           1657|     29754036|   298227|              95.0|       6.4|\n",
      "|2017|        1|2.7350109|            9.2|           1460|     17426101|    34102|              89.8|       7.4|\n",
      "|2017|        2|3.7792401|      13.111111|            794|     57254159|    40704|              81.8|       7.4|\n",
      "|2017|        3|3.8094902|           11.5|            872|     16386007|    12103|              87.9|       7.4|\n",
      "|2017|        4| 3.316889|           12.0|           1396|     86949714|   113352|              94.0|       7.4|\n",
      "|2017|        5|2.3125508|      7.3333335|           1568|     29644948|   277192|              95.4|       7.4|\n",
      "+----+---------+---------+---------------+---------------+-------------+---------+------------------+----------+\n",
      "only showing top 20 rows\n",
      "\n"
     ]
    }
   ],
   "source": [
    "data.show()"
   ]
  },
  {
   "cell_type": "code",
   "execution_count": 841,
   "id": "ec7ca003",
   "metadata": {},
   "outputs": [
    {
     "name": "stdout",
     "output_type": "stream",
     "text": [
      "root\n",
      " |-- ano: integer (nullable = true)\n",
      " |-- id_regiao: integer (nullable = true)\n",
      " |-- perc_inad: double (nullable = true)\n",
      " |-- taxa_desemprego: double (nullable = true)\n",
      " |-- renda_percapita: integer (nullable = true)\n",
      " |-- qtd_populacao: integer (nullable = true)\n",
      " |-- valor_pib: integer (nullable = true)\n",
      " |-- taxa_alfabetizacao: double (nullable = true)\n",
      " |-- taxa_selic: double (nullable = true)\n",
      "\n"
     ]
    }
   ],
   "source": [
    "data.printSchema()"
   ]
  },
  {
   "cell_type": "code",
   "execution_count": 842,
   "id": "719dcec7",
   "metadata": {},
   "outputs": [
    {
     "data": {
      "text/plain": [
       "['ano',\n",
       " 'id_regiao',\n",
       " 'perc_inad',\n",
       " 'taxa_desemprego',\n",
       " 'renda_percapita',\n",
       " 'qtd_populacao',\n",
       " 'valor_pib',\n",
       " 'taxa_alfabetizacao',\n",
       " 'taxa_selic']"
      ]
     },
     "execution_count": 842,
     "metadata": {},
     "output_type": "execute_result"
    }
   ],
   "source": [
    "data.columns"
   ]
  },
  {
   "cell_type": "code",
   "execution_count": 843,
   "id": "0fc2ca04",
   "metadata": {},
   "outputs": [],
   "source": [
    "from pyspark.sql.functions import corr"
   ]
  },
  {
   "cell_type": "code",
   "execution_count": 947,
   "id": "77dd62d8",
   "metadata": {},
   "outputs": [
    {
     "name": "stdout",
     "output_type": "stream",
     "text": [
      "+--------------------+\n",
      "|corr(perc_inad, ano)|\n",
      "+--------------------+\n",
      "|-0.48865372494527193|\n",
      "+--------------------+\n",
      "\n"
     ]
    }
   ],
   "source": [
    "data.select(corr(\"perc_inad\",\"ano\")).show()"
   ]
  },
  {
   "cell_type": "code",
   "execution_count": 845,
   "id": "ccbec618",
   "metadata": {},
   "outputs": [
    {
     "name": "stdout",
     "output_type": "stream",
     "text": [
      "+--------------------------------+\n",
      "|corr(perc_inad, taxa_desemprego)|\n",
      "+--------------------------------+\n",
      "|             0.19068456362730002|\n",
      "+--------------------------------+\n",
      "\n"
     ]
    }
   ],
   "source": [
    "data.select(corr(\"perc_inad\",\"taxa_desemprego\")).show()"
   ]
  },
  {
   "cell_type": "code",
   "execution_count": 846,
   "id": "42fb90d5",
   "metadata": {},
   "outputs": [
    {
     "name": "stdout",
     "output_type": "stream",
     "text": [
      "+--------------------------------+\n",
      "|corr(perc_inad, renda_percapita)|\n",
      "+--------------------------------+\n",
      "|             -0.8134400041971085|\n",
      "+--------------------------------+\n",
      "\n"
     ]
    }
   ],
   "source": [
    "data.select(corr(\"perc_inad\",\"renda_percapita\")).show()"
   ]
  },
  {
   "cell_type": "code",
   "execution_count": 847,
   "id": "12b6601f",
   "metadata": {},
   "outputs": [
    {
     "name": "stdout",
     "output_type": "stream",
     "text": [
      "+-----------------------------------+\n",
      "|corr(perc_inad, taxa_alfabetizacao)|\n",
      "+-----------------------------------+\n",
      "|                 -0.661214428825589|\n",
      "+-----------------------------------+\n",
      "\n"
     ]
    }
   ],
   "source": [
    "data.select(corr(\"perc_inad\",\"taxa_alfabetizacao\")).show()"
   ]
  },
  {
   "cell_type": "code",
   "execution_count": 848,
   "id": "3fa8177d",
   "metadata": {},
   "outputs": [
    {
     "name": "stdout",
     "output_type": "stream",
     "text": [
      "+---------------------------+\n",
      "|corr(perc_inad, taxa_selic)|\n",
      "+---------------------------+\n",
      "|        0.34462666351041954|\n",
      "+---------------------------+\n",
      "\n"
     ]
    }
   ],
   "source": [
    "data.select(corr(\"perc_inad\",\"taxa_selic\")).show()"
   ]
  },
  {
   "cell_type": "code",
   "execution_count": 849,
   "id": "514012e0",
   "metadata": {},
   "outputs": [],
   "source": [
    "from pyspark.ml.linalg import Vectors\n",
    "from pyspark.ml.feature import VectorAssembler"
   ]
  },
  {
   "cell_type": "code",
   "execution_count": 884,
   "id": "86b532ce",
   "metadata": {},
   "outputs": [],
   "source": [
    "assembler = VectorAssembler(inputCols=['ano',\n",
    " 'id_regiao',\n",
    " 'taxa_desemprego',\n",
    " 'renda_percapita',\n",
    " 'qtd_populacao',\n",
    " 'valor_pib',\n",
    " 'taxa_alfabetizacao',\n",
    " 'taxa_selic'],\n",
    "                            outputCol='features')"
   ]
  },
  {
   "cell_type": "code",
   "execution_count": 885,
   "id": "a3aa5325",
   "metadata": {},
   "outputs": [],
   "source": [
    "output = assembler.transform(data)"
   ]
  },
  {
   "cell_type": "code",
   "execution_count": 886,
   "id": "26c89a3c",
   "metadata": {},
   "outputs": [
    {
     "name": "stdout",
     "output_type": "stream",
     "text": [
      "root\n",
      " |-- ano: integer (nullable = true)\n",
      " |-- id_regiao: integer (nullable = true)\n",
      " |-- perc_inad: double (nullable = true)\n",
      " |-- taxa_desemprego: double (nullable = true)\n",
      " |-- renda_percapita: integer (nullable = true)\n",
      " |-- qtd_populacao: integer (nullable = true)\n",
      " |-- valor_pib: integer (nullable = true)\n",
      " |-- taxa_alfabetizacao: double (nullable = true)\n",
      " |-- taxa_selic: double (nullable = true)\n",
      " |-- features: vector (nullable = true)\n",
      "\n"
     ]
    }
   ],
   "source": [
    "output.printSchema()"
   ]
  },
  {
   "cell_type": "code",
   "execution_count": 887,
   "id": "856b4ee4",
   "metadata": {},
   "outputs": [
    {
     "data": {
      "text/plain": [
       "45"
      ]
     },
     "execution_count": 887,
     "metadata": {},
     "output_type": "execute_result"
    }
   ],
   "source": [
    "output.count()"
   ]
  },
  {
   "cell_type": "code",
   "execution_count": 888,
   "id": "755fb498",
   "metadata": {},
   "outputs": [
    {
     "data": {
      "text/plain": [
       "[Row(ano=2020, id_regiao=1, perc_inad=1.9210129, taxa_desemprego=11.0, renda_percapita=1536, qtd_populacao=18094551, valor_pib=35506, taxa_alfabetizacao=90.3, taxa_selic=1.9, features=DenseVector([2020.0, 1.0, 11.0, 1536.0, 18094551.0, 35506.0, 90.3, 1.9]))]"
      ]
     },
     "execution_count": 888,
     "metadata": {},
     "output_type": "execute_result"
    }
   ],
   "source": [
    "output.head(1)"
   ]
  },
  {
   "cell_type": "code",
   "execution_count": 889,
   "id": "66dfeab1",
   "metadata": {},
   "outputs": [],
   "source": [
    "final_data = output.select(\"features\",\"perc_inad\")"
   ]
  },
  {
   "cell_type": "code",
   "execution_count": 890,
   "id": "9e7a1e48",
   "metadata": {},
   "outputs": [
    {
     "name": "stdout",
     "output_type": "stream",
     "text": [
      "+--------------------+---------+\n",
      "|            features|perc_inad|\n",
      "+--------------------+---------+\n",
      "|[2020.0,1.0,11.0,...|1.9210129|\n",
      "|[2020.0,2.0,16.33...|3.2706366|\n",
      "|[2020.0,3.0,13.33...|2.6512673|\n",
      "|[2020.0,4.0,14.5,...| 2.574358|\n",
      "|[2020.0,5.0,7.333...| 1.810782|\n",
      "|[2019.0,1.0,8.6,1...|2.5289876|\n",
      "|[2019.0,2.0,12.88...| 3.904583|\n",
      "|[2019.0,3.0,11.83...|3.3900259|\n",
      "|[2019.0,4.0,10.75...|3.2406075|\n",
      "|[2019.0,5.0,6.333...|2.3858519|\n",
      "|[2018.0,1.0,8.6,1...|2.3688977|\n",
      "|[2018.0,2.0,13.55...|3.5395253|\n",
      "|[2018.0,3.0,13.16...|3.4302285|\n",
      "|[2018.0,4.0,11.25...|3.0524065|\n",
      "|[2018.0,5.0,6.666...|2.1732743|\n",
      "|[2017.0,1.0,9.2,1...|2.7350109|\n",
      "|[2017.0,2.0,13.11...|3.7792401|\n",
      "|[2017.0,3.0,11.5,...|3.8094902|\n",
      "|[2017.0,4.0,12.0,...| 3.316889|\n",
      "|[2017.0,5.0,7.333...|2.3125508|\n",
      "+--------------------+---------+\n",
      "only showing top 20 rows\n",
      "\n"
     ]
    }
   ],
   "source": [
    "final_data.show()"
   ]
  },
  {
   "cell_type": "code",
   "execution_count": 891,
   "id": "9706725b",
   "metadata": {},
   "outputs": [],
   "source": [
    "train_data,test_data = final_data.randomSplit([0.7,0.3])"
   ]
  },
  {
   "cell_type": "code",
   "execution_count": 894,
   "id": "71a1160c",
   "metadata": {},
   "outputs": [],
   "source": [
    "from pyspark.ml.regression import LinearRegression"
   ]
  },
  {
   "cell_type": "code",
   "execution_count": 895,
   "id": "a9f6aaa0",
   "metadata": {},
   "outputs": [],
   "source": [
    "lr = LinearRegression(labelCol = \"perc_inad\")"
   ]
  },
  {
   "cell_type": "code",
   "execution_count": 922,
   "id": "8c839285",
   "metadata": {},
   "outputs": [
    {
     "name": "stderr",
     "output_type": "stream",
     "text": [
      "21/11/18 16:52:13 WARN Instrumentation: [995bc204] regParam is zero, which might cause numerical instability and overfitting.\n"
     ]
    }
   ],
   "source": [
    "lr_model = lr.fit(test_data)"
   ]
  },
  {
   "cell_type": "code",
   "execution_count": 923,
   "id": "7090d4ca",
   "metadata": {},
   "outputs": [],
   "source": [
    "test_results = lr_model.evaluate(test_data)"
   ]
  },
  {
   "cell_type": "code",
   "execution_count": 924,
   "id": "1247a8d8",
   "metadata": {},
   "outputs": [
    {
     "name": "stdout",
     "output_type": "stream",
     "text": [
      "+--------------------+\n",
      "|           residuals|\n",
      "+--------------------+\n",
      "|  0.1246438421491729|\n",
      "|-0.05100224407969911|\n",
      "| 0.06979424847390359|\n",
      "| -0.1018085103879427|\n",
      "| -0.2268535148579005|\n",
      "|-0.02831404645337...|\n",
      "| 0.24881551321226913|\n",
      "|-0.02392376560619791|\n",
      "|-0.02306441167264...|\n",
      "|0.019010102648128857|\n",
      "| 0.20975588776721654|\n",
      "| -0.0380500941871591|\n",
      "|  -0.229920578954248|\n",
      "|-0.11509578683733768|\n",
      "| 0.08432276779520853|\n",
      "|-0.04156591519496...|\n",
      "| 0.12325650618542405|\n",
      "+--------------------+\n",
      "\n"
     ]
    }
   ],
   "source": [
    "test_results.residuals.show()"
   ]
  },
  {
   "cell_type": "code",
   "execution_count": 925,
   "id": "c8bd591a",
   "metadata": {},
   "outputs": [
    {
     "data": {
      "text/plain": [
       "0.12938739405261135"
      ]
     },
     "execution_count": 925,
     "metadata": {},
     "output_type": "execute_result"
    }
   ],
   "source": [
    "test_results.rootMeanSquaredError"
   ]
  },
  {
   "cell_type": "code",
   "execution_count": 926,
   "id": "f96ef10b",
   "metadata": {},
   "outputs": [
    {
     "data": {
      "text/plain": [
       "0.9770326693083012"
      ]
     },
     "execution_count": 926,
     "metadata": {},
     "output_type": "execute_result"
    }
   ],
   "source": [
    "test_results.r2"
   ]
  },
  {
   "cell_type": "code",
   "execution_count": 927,
   "id": "e5e1f406",
   "metadata": {},
   "outputs": [
    {
     "name": "stderr",
     "output_type": "stream",
     "text": [
      "21/11/18 16:53:48 WARN Instrumentation: [6b935931] regParam is zero, which might cause numerical instability and overfitting.\n"
     ]
    }
   ],
   "source": [
    "lr_model = lr.fit(train_data)"
   ]
  },
  {
   "cell_type": "code",
   "execution_count": 928,
   "id": "d83fdc00",
   "metadata": {},
   "outputs": [],
   "source": [
    "train_results = lr_model.evaluate(train_data)"
   ]
  },
  {
   "cell_type": "code",
   "execution_count": 929,
   "id": "f7ac48b9",
   "metadata": {},
   "outputs": [
    {
     "name": "stdout",
     "output_type": "stream",
     "text": [
      "+--------------------+\n",
      "|           residuals|\n",
      "+--------------------+\n",
      "|  0.3422431268360455|\n",
      "| 0.36949100802203816|\n",
      "|-0.11557309549911032|\n",
      "|-0.19877857035532198|\n",
      "| 0.04921023840620453|\n",
      "| -0.3644731766914324|\n",
      "|-0.23261421637661472|\n",
      "| -0.3201481353950153|\n",
      "|0.029020810082103665|\n",
      "|-0.25000742120005803|\n",
      "|  0.2818885641505475|\n",
      "| 0.22591320233934553|\n",
      "| 0.10288104912800566|\n",
      "|   -0.13383985976875|\n",
      "|-0.12521114338335426|\n",
      "|0.025702790417567734|\n",
      "| 0.12906195263847398|\n",
      "|-0.02107478636531...|\n",
      "|  0.1108300816220642|\n",
      "| -0.0660716150384042|\n",
      "+--------------------+\n",
      "only showing top 20 rows\n",
      "\n"
     ]
    }
   ],
   "source": [
    "train_results.residuals.show()"
   ]
  },
  {
   "cell_type": "code",
   "execution_count": 930,
   "id": "319021e8",
   "metadata": {},
   "outputs": [
    {
     "data": {
      "text/plain": [
       "0.2639292456248446"
      ]
     },
     "execution_count": 930,
     "metadata": {},
     "output_type": "execute_result"
    }
   ],
   "source": [
    "train_results.rootMeanSquaredError"
   ]
  },
  {
   "cell_type": "code",
   "execution_count": 931,
   "id": "4698f352",
   "metadata": {},
   "outputs": [
    {
     "data": {
      "text/plain": [
       "0.8722061355604154"
      ]
     },
     "execution_count": 931,
     "metadata": {},
     "output_type": "execute_result"
    }
   ],
   "source": [
    "train_results.r2"
   ]
  },
  {
   "cell_type": "code",
   "execution_count": 932,
   "id": "2631068e",
   "metadata": {},
   "outputs": [],
   "source": [
    "unlabeled_data = output.select(\"features\")"
   ]
  },
  {
   "cell_type": "code",
   "execution_count": 933,
   "id": "a1e2bbba",
   "metadata": {},
   "outputs": [
    {
     "name": "stdout",
     "output_type": "stream",
     "text": [
      "+--------------------+\n",
      "|            features|\n",
      "+--------------------+\n",
      "|[2020.0,1.0,11.0,...|\n",
      "|[2020.0,2.0,16.33...|\n",
      "|[2020.0,3.0,13.33...|\n",
      "|[2020.0,4.0,14.5,...|\n",
      "|[2020.0,5.0,7.333...|\n",
      "|[2019.0,1.0,8.6,1...|\n",
      "|[2019.0,2.0,12.88...|\n",
      "|[2019.0,3.0,11.83...|\n",
      "|[2019.0,4.0,10.75...|\n",
      "|[2019.0,5.0,6.333...|\n",
      "|[2018.0,1.0,8.6,1...|\n",
      "|[2018.0,2.0,13.55...|\n",
      "|[2018.0,3.0,13.16...|\n",
      "|[2018.0,4.0,11.25...|\n",
      "|[2018.0,5.0,6.666...|\n",
      "|[2017.0,1.0,9.2,1...|\n",
      "|[2017.0,2.0,13.11...|\n",
      "|[2017.0,3.0,11.5,...|\n",
      "|[2017.0,4.0,12.0,...|\n",
      "|[2017.0,5.0,7.333...|\n",
      "+--------------------+\n",
      "only showing top 20 rows\n",
      "\n"
     ]
    }
   ],
   "source": [
    "unlabeled_data.show()"
   ]
  },
  {
   "cell_type": "code",
   "execution_count": 934,
   "id": "a7b98d25",
   "metadata": {},
   "outputs": [],
   "source": [
    "predictions = lr_model.transform(unlabeled_data)"
   ]
  },
  {
   "cell_type": "code",
   "execution_count": 935,
   "id": "c819d154",
   "metadata": {},
   "outputs": [
    {
     "name": "stdout",
     "output_type": "stream",
     "text": [
      "+--------------------+------------------+\n",
      "|            features|        prediction|\n",
      "+--------------------+------------------+\n",
      "|[2020.0,1.0,11.0,...|2.0128887710887966|\n",
      "|[2020.0,2.0,16.33...|3.4765766677696774|\n",
      "|[2020.0,3.0,13.33...| 3.193046433748009|\n",
      "|[2020.0,4.0,14.5,...|3.1733547223744836|\n",
      "|[2020.0,5.0,7.333...|  1.40385273395259|\n",
      "|[2019.0,1.0,8.6,1...|2.0009812198351256|\n",
      "|[2019.0,2.0,12.88...| 3.206398542558759|\n",
      "|[2019.0,3.0,11.83...|3.2609410406894312|\n",
      "|[2019.0,4.0,10.75...|3.0035846425523687|\n",
      "|[2019.0,5.0,6.333...| 1.717201254711199|\n",
      "|[2018.0,1.0,8.6,1...| 2.258067618377936|\n",
      "|[2018.0,2.0,13.55...|3.6055969150384044|\n",
      "|[2018.0,3.0,13.16...| 3.838900532471712|\n",
      "|[2018.0,4.0,11.25...|3.3780437808194392|\n",
      "|[2018.0,5.0,6.666...|1.9107849243426926|\n",
      "|[2017.0,1.0,9.2,1...| 2.605948947361526|\n",
      "|[2017.0,2.0,13.11...|3.8700294673438975|\n",
      "|[2017.0,3.0,11.5,...|3.7671369609971634|\n",
      "|[2017.0,4.0,12.0,...|3.8187352499329563|\n",
      "|[2017.0,5.0,7.333...| 2.333625586365315|\n",
      "+--------------------+------------------+\n",
      "only showing top 20 rows\n",
      "\n"
     ]
    }
   ],
   "source": [
    "predictions.show()"
   ]
  },
  {
   "cell_type": "code",
   "execution_count": 936,
   "id": "ead8c429",
   "metadata": {},
   "outputs": [
    {
     "name": "stdout",
     "output_type": "stream",
     "text": [
      "root\n",
      " |-- features: vector (nullable = true)\n",
      " |-- prediction: double (nullable = false)\n",
      "\n"
     ]
    }
   ],
   "source": [
    "predictions.printSchema()"
   ]
  },
  {
   "cell_type": "code",
   "execution_count": 937,
   "id": "637ffee5",
   "metadata": {},
   "outputs": [],
   "source": [
    "from pyspark.sql.functions import udf, col\n",
    "from pyspark.sql.types import ArrayType, DoubleType"
   ]
  },
  {
   "cell_type": "code",
   "execution_count": 938,
   "id": "825f55e7",
   "metadata": {},
   "outputs": [],
   "source": [
    "def to_array(col):\n",
    "    def to_array_(v):\n",
    "        return v.toArray().tolist()\n",
    "    return udf(to_array_, ArrayType(DoubleType()))(col)"
   ]
  },
  {
   "cell_type": "code",
   "execution_count": 941,
   "id": "e122dd77",
   "metadata": {},
   "outputs": [],
   "source": [
    "resultado_final = predictions.withColumn(\"coluna\",to_array(col(\"features\"))).select([col(\"coluna\")[i] for i in range(2)]+[\"prediction\"])"
   ]
  },
  {
   "cell_type": "code",
   "execution_count": 942,
   "id": "70815983",
   "metadata": {},
   "outputs": [
    {
     "name": "stdout",
     "output_type": "stream",
     "text": [
      "+---------+---------+------------------+\n",
      "|coluna[0]|coluna[1]|        prediction|\n",
      "+---------+---------+------------------+\n",
      "|   2020.0|      1.0|2.0128887710887966|\n",
      "|   2020.0|      2.0|3.4765766677696774|\n",
      "|   2020.0|      3.0| 3.193046433748009|\n",
      "|   2020.0|      4.0|3.1733547223744836|\n",
      "|   2020.0|      5.0|  1.40385273395259|\n",
      "|   2019.0|      1.0|2.0009812198351256|\n",
      "|   2019.0|      2.0| 3.206398542558759|\n",
      "|   2019.0|      3.0|3.2609410406894312|\n",
      "|   2019.0|      4.0|3.0035846425523687|\n",
      "|   2019.0|      5.0| 1.717201254711199|\n",
      "|   2018.0|      1.0| 2.258067618377936|\n",
      "|   2018.0|      2.0|3.6055969150384044|\n",
      "|   2018.0|      3.0| 3.838900532471712|\n",
      "|   2018.0|      4.0|3.3780437808194392|\n",
      "|   2018.0|      5.0|1.9107849243426926|\n",
      "|   2017.0|      1.0| 2.605948947361526|\n",
      "|   2017.0|      2.0|3.8700294673438975|\n",
      "|   2017.0|      3.0|3.7671369609971634|\n",
      "|   2017.0|      4.0|3.8187352499329563|\n",
      "|   2017.0|      5.0| 2.333625586365315|\n",
      "+---------+---------+------------------+\n",
      "only showing top 20 rows\n",
      "\n"
     ]
    }
   ],
   "source": [
    "resultado_final.show()"
   ]
  },
  {
   "cell_type": "code",
   "execution_count": 943,
   "id": "4039b90e",
   "metadata": {},
   "outputs": [],
   "source": [
    "arquivo_final = resultado_final.select(\"coluna[0]\",\"coluna[1]\",\"prediction\")"
   ]
  },
  {
   "cell_type": "code",
   "execution_count": 944,
   "id": "25ce3c08",
   "metadata": {},
   "outputs": [
    {
     "data": {
      "text/plain": [
       "DataFrame[coluna[0]: double, coluna[1]: double, prediction: double]"
      ]
     },
     "execution_count": 944,
     "metadata": {},
     "output_type": "execute_result"
    }
   ],
   "source": [
    "arquivo_final"
   ]
  },
  {
   "cell_type": "code",
   "execution_count": 945,
   "id": "cdf87a58",
   "metadata": {},
   "outputs": [],
   "source": [
    "arquivo_final.write.mode(\"overwrite\").format(\"csv\").save(\"/mnt/hgfs/shared_folder/resultado\")\n"
   ]
  },
  {
   "cell_type": "code",
   "execution_count": 953,
   "id": "da22ef48",
   "metadata": {},
   "outputs": [],
   "source": [
    "grafico = spark.read.csv(\"/mnt/hgfs/shared_folder/resultado/resultado_grafico.csv\",\n",
    "                      inferSchema=True,\n",
    "                     header=True,\n",
    "                     )"
   ]
  },
  {
   "cell_type": "code",
   "execution_count": 954,
   "id": "8e52a461",
   "metadata": {},
   "outputs": [
    {
     "name": "stdout",
     "output_type": "stream",
     "text": [
      "+----+-------+\n",
      "| scr|predict|\n",
      "+----+-------+\n",
      "|3.61|   3.32|\n",
      "|5.01|   4.66|\n",
      "| 4.7|   4.36|\n",
      "|4.31|   3.94|\n",
      "|3.17|   3.28|\n",
      "|2.75|   2.95|\n",
      "|4.28|   4.23|\n",
      "|4.47|   4.06|\n",
      "| 3.5|   3.68|\n",
      "|2.49|   2.85|\n",
      "|2.54|   2.77|\n",
      "|3.73|   4.05|\n",
      "|3.78|   3.75|\n",
      "|3.21|   3.46|\n",
      "|2.23|   2.45|\n",
      "|3.14|   2.86|\n",
      "|4.42|   4.09|\n",
      "|4.24|   4.01|\n",
      "|3.74|   3.87|\n",
      "|2.75|   2.65|\n",
      "+----+-------+\n",
      "only showing top 20 rows\n",
      "\n"
     ]
    }
   ],
   "source": [
    "grafico.show()"
   ]
  },
  {
   "cell_type": "code",
   "execution_count": 957,
   "id": "c9b57c71",
   "metadata": {},
   "outputs": [],
   "source": [
    "x_ax = range(0, grafico.count())\n",
    "y_pred = grafico.select(\"predict\").collect()\n",
    "y_orig = grafico.select(\"scr\").collect() "
   ]
  },
  {
   "cell_type": "code",
   "execution_count": 958,
   "id": "2a51c129",
   "metadata": {},
   "outputs": [],
   "source": [
    "import matplotlib.pyplot as plt"
   ]
  },
  {
   "cell_type": "code",
   "execution_count": 963,
   "id": "de4870bd",
   "metadata": {},
   "outputs": [
    {
     "data": {
      "image/png": "[encoded data removed]",
      "text/plain": [
       "<Figure size 432x288 with 1 Axes>"
      ]
     },
     "metadata": {
      "needs_background": "light"
     },
     "output_type": "display_data"
    }
   ],
   "source": [
    "plt.plot(x_ax, y_orig, label=\"scr\")\n",
    "plt.plot(x_ax, y_pred, label=\"predicted\")\n",
    "plt.title(\"Inadimplência\")\n",
    "plt.xlabel('Ano/Região')\n",
    "plt.ylabel('Inad')\n",
    "plt.legend(loc='best',fancybox=True, shadow=True)\n",
    "plt.grid(True)\n",
    "plt.show()"
   ]
  },
  {
   "cell_type": "code",
   "execution_count": null,
   "id": "b457a8c2",
   "metadata": {},
   "outputs": [],
   "source": []
  }
 ],
 "metadata": {
  "kernelspec": {
   "display_name": "Python 3 (ipykernel)",
   "language": "python",
   "name": "python3"
  },
  "language_info": {
   "codemirror_mode": {
    "name": "ipython",
    "version": 3
   },
   "file_extension": ".py",
   "mimetype": "text/x-python",
   "name": "python",
   "nbconvert_exporter": "python",
   "pygments_lexer": "ipython3",
   "version": "3.8.10"
  }
 },
 "nbformat": 4,
 "nbformat_minor": 5
}
